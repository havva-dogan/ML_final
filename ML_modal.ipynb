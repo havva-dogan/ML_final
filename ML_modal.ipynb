{
 "cells": [
  {
   "cell_type": "code",
   "execution_count": 1,
   "id": "26467ccc",
   "metadata": {},
   "outputs": [],
   "source": [
    "import pandas as pd\n",
    "\n",
    "\n",
    "# Read the extracted features CSV file\n",
    "extracted_features_df = pd.read_csv('/Users/havvadogan/Desktop/ML/extracted_features.csv')\n"
   ]
  },
  {
   "cell_type": "code",
   "execution_count": 34,
   "id": "0c490537",
   "metadata": {},
   "outputs": [
    {
     "name": "stdout",
     "output_type": "stream",
     "text": [
      "['Zero-Crossing Rate', 'Spectral Centroid', 'Spectral Rolloff', 'Spectral Contrast 0', 'Spectral Contrast 1', 'Spectral Contrast 2', 'Spectral Contrast 3', 'Spectral Contrast 4', 'Spectral Contrast 5', 'Spectral Contrast 6', 'MFCC 0', 'MFCC 1', 'MFCC 2', 'MFCC 3', 'MFCC 4', 'MFCC 5', 'MFCC 6', 'MFCC 7', 'MFCC 8', 'MFCC 9', 'MFCC 10', 'MFCC 11', 'MFCC 12', 'Chroma 0', 'Chroma 1', 'Chroma 2', 'Chroma 3', 'Chroma 4', 'Chroma 5', 'Chroma 6', 'Chroma 7', 'Chroma 8', 'Chroma 9', 'Chroma 10', 'Chroma 11', 'class']\n"
     ]
    }
   ],
   "source": [
    "column_titles = extracted_features_df.columns.tolist()\n",
    "print(column_titles)"
   ]
  },
  {
   "cell_type": "code",
   "execution_count": 30,
   "id": "b08a8500",
   "metadata": {},
   "outputs": [
    {
     "data": {
      "text/html": [
       "<div>\n",
       "<style scoped>\n",
       "    .dataframe tbody tr th:only-of-type {\n",
       "        vertical-align: middle;\n",
       "    }\n",
       "\n",
       "    .dataframe tbody tr th {\n",
       "        vertical-align: top;\n",
       "    }\n",
       "\n",
       "    .dataframe thead th {\n",
       "        text-align: right;\n",
       "    }\n",
       "</style>\n",
       "<table border=\"1\" class=\"dataframe\">\n",
       "  <thead>\n",
       "    <tr style=\"text-align: right;\">\n",
       "      <th></th>\n",
       "      <th>Zero-Crossing Rate</th>\n",
       "      <th>Spectral Centroid</th>\n",
       "      <th>Spectral Rolloff</th>\n",
       "      <th>Spectral Contrast 0</th>\n",
       "      <th>Spectral Contrast 1</th>\n",
       "      <th>Spectral Contrast 2</th>\n",
       "      <th>Spectral Contrast 3</th>\n",
       "      <th>Spectral Contrast 4</th>\n",
       "      <th>Spectral Contrast 5</th>\n",
       "      <th>Spectral Contrast 6</th>\n",
       "      <th>...</th>\n",
       "      <th>Chroma 3</th>\n",
       "      <th>Chroma 4</th>\n",
       "      <th>Chroma 5</th>\n",
       "      <th>Chroma 6</th>\n",
       "      <th>Chroma 7</th>\n",
       "      <th>Chroma 8</th>\n",
       "      <th>Chroma 9</th>\n",
       "      <th>Chroma 10</th>\n",
       "      <th>Chroma 11</th>\n",
       "      <th>class</th>\n",
       "    </tr>\n",
       "  </thead>\n",
       "  <tbody>\n",
       "    <tr>\n",
       "      <th>0</th>\n",
       "      <td>0.065848</td>\n",
       "      <td>-0.007356</td>\n",
       "      <td>-0.596073</td>\n",
       "      <td>0.098143</td>\n",
       "      <td>-0.821377</td>\n",
       "      <td>1.814057</td>\n",
       "      <td>0.151684</td>\n",
       "      <td>0.774200</td>\n",
       "      <td>0.446983</td>\n",
       "      <td>0.042605</td>\n",
       "      <td>...</td>\n",
       "      <td>-1.974514</td>\n",
       "      <td>-1.767081</td>\n",
       "      <td>-1.893341</td>\n",
       "      <td>-1.386341</td>\n",
       "      <td>1.335626</td>\n",
       "      <td>2.043950</td>\n",
       "      <td>-0.930806</td>\n",
       "      <td>-1.307249</td>\n",
       "      <td>-0.458414</td>\n",
       "      <td>dog_bark</td>\n",
       "    </tr>\n",
       "    <tr>\n",
       "      <th>1</th>\n",
       "      <td>0.219328</td>\n",
       "      <td>0.067202</td>\n",
       "      <td>0.029683</td>\n",
       "      <td>-1.010647</td>\n",
       "      <td>-0.684977</td>\n",
       "      <td>-0.113419</td>\n",
       "      <td>-0.173504</td>\n",
       "      <td>0.234841</td>\n",
       "      <td>0.759197</td>\n",
       "      <td>0.743262</td>\n",
       "      <td>...</td>\n",
       "      <td>0.353474</td>\n",
       "      <td>0.456656</td>\n",
       "      <td>0.403395</td>\n",
       "      <td>-0.092359</td>\n",
       "      <td>-0.077499</td>\n",
       "      <td>0.216506</td>\n",
       "      <td>0.317506</td>\n",
       "      <td>-0.096914</td>\n",
       "      <td>-0.146266</td>\n",
       "      <td>children_playing</td>\n",
       "    </tr>\n",
       "    <tr>\n",
       "      <th>2</th>\n",
       "      <td>-0.185368</td>\n",
       "      <td>-0.241589</td>\n",
       "      <td>-0.137154</td>\n",
       "      <td>-1.083911</td>\n",
       "      <td>-0.744169</td>\n",
       "      <td>-0.271152</td>\n",
       "      <td>-0.037948</td>\n",
       "      <td>-0.094399</td>\n",
       "      <td>0.574840</td>\n",
       "      <td>0.474627</td>\n",
       "      <td>...</td>\n",
       "      <td>-0.098027</td>\n",
       "      <td>0.487163</td>\n",
       "      <td>0.876417</td>\n",
       "      <td>0.474177</td>\n",
       "      <td>0.084612</td>\n",
       "      <td>-0.216001</td>\n",
       "      <td>0.057127</td>\n",
       "      <td>0.328336</td>\n",
       "      <td>0.200852</td>\n",
       "      <td>children_playing</td>\n",
       "    </tr>\n",
       "    <tr>\n",
       "      <th>3</th>\n",
       "      <td>0.111738</td>\n",
       "      <td>0.169106</td>\n",
       "      <td>0.250302</td>\n",
       "      <td>-1.043525</td>\n",
       "      <td>-0.436123</td>\n",
       "      <td>0.915046</td>\n",
       "      <td>-0.076141</td>\n",
       "      <td>-0.052425</td>\n",
       "      <td>0.889728</td>\n",
       "      <td>0.397306</td>\n",
       "      <td>...</td>\n",
       "      <td>0.194769</td>\n",
       "      <td>-0.105288</td>\n",
       "      <td>-0.585435</td>\n",
       "      <td>-0.756575</td>\n",
       "      <td>-0.489770</td>\n",
       "      <td>-0.393652</td>\n",
       "      <td>-0.276820</td>\n",
       "      <td>-0.243800</td>\n",
       "      <td>-0.144186</td>\n",
       "      <td>children_playing</td>\n",
       "    </tr>\n",
       "    <tr>\n",
       "      <th>4</th>\n",
       "      <td>-0.007080</td>\n",
       "      <td>-0.067517</td>\n",
       "      <td>0.003720</td>\n",
       "      <td>-0.991130</td>\n",
       "      <td>-0.511474</td>\n",
       "      <td>-0.332395</td>\n",
       "      <td>-0.227399</td>\n",
       "      <td>-0.046713</td>\n",
       "      <td>0.551894</td>\n",
       "      <td>0.439464</td>\n",
       "      <td>...</td>\n",
       "      <td>-0.034785</td>\n",
       "      <td>-0.003359</td>\n",
       "      <td>-0.084950</td>\n",
       "      <td>-0.080951</td>\n",
       "      <td>0.149053</td>\n",
       "      <td>-0.194303</td>\n",
       "      <td>-0.240589</td>\n",
       "      <td>0.127744</td>\n",
       "      <td>0.991889</td>\n",
       "      <td>children_playing</td>\n",
       "    </tr>\n",
       "  </tbody>\n",
       "</table>\n",
       "<p>5 rows × 36 columns</p>\n",
       "</div>"
      ],
      "text/plain": [
       "   Zero-Crossing Rate  Spectral Centroid  Spectral Rolloff  \\\n",
       "0            0.065848          -0.007356         -0.596073   \n",
       "1            0.219328           0.067202          0.029683   \n",
       "2           -0.185368          -0.241589         -0.137154   \n",
       "3            0.111738           0.169106          0.250302   \n",
       "4           -0.007080          -0.067517          0.003720   \n",
       "\n",
       "   Spectral Contrast 0  Spectral Contrast 1  Spectral Contrast 2  \\\n",
       "0             0.098143            -0.821377             1.814057   \n",
       "1            -1.010647            -0.684977            -0.113419   \n",
       "2            -1.083911            -0.744169            -0.271152   \n",
       "3            -1.043525            -0.436123             0.915046   \n",
       "4            -0.991130            -0.511474            -0.332395   \n",
       "\n",
       "   Spectral Contrast 3  Spectral Contrast 4  Spectral Contrast 5  \\\n",
       "0             0.151684             0.774200             0.446983   \n",
       "1            -0.173504             0.234841             0.759197   \n",
       "2            -0.037948            -0.094399             0.574840   \n",
       "3            -0.076141            -0.052425             0.889728   \n",
       "4            -0.227399            -0.046713             0.551894   \n",
       "\n",
       "   Spectral Contrast 6  ...  Chroma 3  Chroma 4  Chroma 5  Chroma 6  Chroma 7  \\\n",
       "0             0.042605  ... -1.974514 -1.767081 -1.893341 -1.386341  1.335626   \n",
       "1             0.743262  ...  0.353474  0.456656  0.403395 -0.092359 -0.077499   \n",
       "2             0.474627  ... -0.098027  0.487163  0.876417  0.474177  0.084612   \n",
       "3             0.397306  ...  0.194769 -0.105288 -0.585435 -0.756575 -0.489770   \n",
       "4             0.439464  ... -0.034785 -0.003359 -0.084950 -0.080951  0.149053   \n",
       "\n",
       "   Chroma 8  Chroma 9  Chroma 10  Chroma 11             class  \n",
       "0  2.043950 -0.930806  -1.307249  -0.458414          dog_bark  \n",
       "1  0.216506  0.317506  -0.096914  -0.146266  children_playing  \n",
       "2 -0.216001  0.057127   0.328336   0.200852  children_playing  \n",
       "3 -0.393652 -0.276820  -0.243800  -0.144186  children_playing  \n",
       "4 -0.194303 -0.240589   0.127744   0.991889  children_playing  \n",
       "\n",
       "[5 rows x 36 columns]"
      ]
     },
     "execution_count": 30,
     "metadata": {},
     "output_type": "execute_result"
    }
   ],
   "source": [
    "extracted_features_df.head()"
   ]
  },
  {
   "cell_type": "code",
   "execution_count": 2,
   "id": "d73f984c",
   "metadata": {},
   "outputs": [],
   "source": [
    "import pandas as pd\n",
    "from sklearn.model_selection import train_test_split\n",
    "from sklearn.preprocessing import StandardScaler\n",
    "from sklearn.neighbors import KNeighborsClassifier\n",
    "from sklearn.metrics import accuracy_score\n"
   ]
  },
  {
   "cell_type": "code",
   "execution_count": 21,
   "id": "9ba0b448",
   "metadata": {},
   "outputs": [
    {
     "data": {
      "image/png": "[encoded data removed]",
      "text/plain": [
       "<Figure size 640x480 with 1 Axes>"
      ]
     },
     "metadata": {},
     "output_type": "display_data"
    },
    {
     "name": "stdout",
     "output_type": "stream",
     "text": [
      "0.023857700824737548 mins\n",
      "1 0.9362920544022906\n"
     ]
    }
   ],
   "source": [
    "# using KNN to classify\n",
    "\n",
    "import time\n",
    "\n",
    "from matplotlib import pyplot as plt\n",
    "\n",
    "from sklearn.model_selection import cross_val_score\n",
    "\n",
    "\n",
    "# Finding the best value of k by using the method of cross-validation\n",
    "\n",
    "s = time.time()\n",
    "max_score = 0\n",
    "max_i = -1\n",
    "x = []\n",
    "y = []\n",
    "\n",
    "for i in range(1, 10, 1):\n",
    "\n",
    "    clf = KNeighborsClassifier(n_neighbors=i)\n",
    "    score = cross_val_score(clf, X_train, y_train)\n",
    "   \n",
    "\n",
    "    if (score.mean() > max_score):\n",
    "        max_score = score.mean()\n",
    "        max_i = i\n",
    "\n",
    "    x.append(i)\n",
    "    y.append(score.mean())\n",
    "\n",
    "plt.plot(x, y, color = \"darkblue\")\n",
    "plt.show()\n",
    "\n",
    "e = time.time()\n",
    "\n",
    "\n",
    "print((e-s)/60 , \"mins\")\n",
    "\n",
    "print(max_i, max_score)"
   ]
  },
  {
   "cell_type": "code",
   "execution_count": 3,
   "id": "5f907bcb",
   "metadata": {},
   "outputs": [],
   "source": [
    "# 1. Handling Missing Values (if applicable)\n",
    "extracted_features_df.dropna(inplace=True)"
   ]
  },
  {
   "cell_type": "code",
   "execution_count": 4,
   "id": "78c9811e",
   "metadata": {},
   "outputs": [],
   "source": [
    "# 2. Feature Scaling\n",
    "scaler = StandardScaler()\n",
    "# Select the features for scaling (excluding the class column)\n",
    "features = extracted_features_df.drop('class', axis=1)\n",
    "# Scale the selected features\n",
    "scaled_features = scaler.fit_transform(features)\n",
    "# Replace the original feature columns with the scaled features\n",
    "extracted_features_df[features.columns] = scaled_features"
   ]
  },
  {
   "cell_type": "code",
   "execution_count": 47,
   "id": "510dd80d",
   "metadata": {},
   "outputs": [],
   "source": [
    "# 5. Train-Test Split\n",
    "from sklearn.preprocessing import LabelEncoder\n",
    "X = extracted_features_df.drop('class', axis=1)\n",
    "y = extracted_features_df['class']\n",
    "le = LabelEncoder()\n",
    "y = le.fit_transform(extracted_features_df[\"class\"])\n",
    "X_train, X_test, y_train, y_test = train_test_split(X, y, test_size=0.2, random_state=42)\n",
    "\n"
   ]
  },
  {
   "cell_type": "code",
   "execution_count": 26,
   "id": "8ddf2fc7",
   "metadata": {},
   "outputs": [],
   "source": [
    "# Create a KNN classifier with a chosen number of neighbors (k)\n",
    "knn = KNeighborsClassifier(n_neighbors=3)\n",
    "\n"
   ]
  },
  {
   "cell_type": "code",
   "execution_count": 27,
   "id": "cac45d21",
   "metadata": {},
   "outputs": [
    {
     "data": {
      "text/html": [
       "<style>#sk-container-id-5 {color: black;background-color: white;}#sk-container-id-5 pre{padding: 0;}#sk-container-id-5 div.sk-toggleable {background-color: white;}#sk-container-id-5 label.sk-toggleable__label {cursor: pointer;display: block;width: 100%;margin-bottom: 0;padding: 0.3em;box-sizing: border-box;text-align: center;}#sk-container-id-5 label.sk-toggleable__label-arrow:before {content: \"▸\";float: left;margin-right: 0.25em;color: #696969;}#sk-container-id-5 label.sk-toggleable__label-arrow:hover:before {color: black;}#sk-container-id-5 div.sk-estimator:hover label.sk-toggleable__label-arrow:before {color: black;}#sk-container-id-5 div.sk-toggleable__content {max-height: 0;max-width: 0;overflow: hidden;text-align: left;background-color: #f0f8ff;}#sk-container-id-5 div.sk-toggleable__content pre {margin: 0.2em;color: black;border-radius: 0.25em;background-color: #f0f8ff;}#sk-container-id-5 input.sk-toggleable__control:checked~div.sk-toggleable__content {max-height: 200px;max-width: 100%;overflow: auto;}#sk-container-id-5 input.sk-toggleable__control:checked~label.sk-toggleable__label-arrow:before {content: \"▾\";}#sk-container-id-5 div.sk-estimator input.sk-toggleable__control:checked~label.sk-toggleable__label {background-color: #d4ebff;}#sk-container-id-5 div.sk-label input.sk-toggleable__control:checked~label.sk-toggleable__label {background-color: #d4ebff;}#sk-container-id-5 input.sk-hidden--visually {border: 0;clip: rect(1px 1px 1px 1px);clip: rect(1px, 1px, 1px, 1px);height: 1px;margin: -1px;overflow: hidden;padding: 0;position: absolute;width: 1px;}#sk-container-id-5 div.sk-estimator {font-family: monospace;background-color: #f0f8ff;border: 1px dotted black;border-radius: 0.25em;box-sizing: border-box;margin-bottom: 0.5em;}#sk-container-id-5 div.sk-estimator:hover {background-color: #d4ebff;}#sk-container-id-5 div.sk-parallel-item::after {content: \"\";width: 100%;border-bottom: 1px solid gray;flex-grow: 1;}#sk-container-id-5 div.sk-label:hover label.sk-toggleable__label {background-color: #d4ebff;}#sk-container-id-5 div.sk-serial::before {content: \"\";position: absolute;border-left: 1px solid gray;box-sizing: border-box;top: 0;bottom: 0;left: 50%;z-index: 0;}#sk-container-id-5 div.sk-serial {display: flex;flex-direction: column;align-items: center;background-color: white;padding-right: 0.2em;padding-left: 0.2em;position: relative;}#sk-container-id-5 div.sk-item {position: relative;z-index: 1;}#sk-container-id-5 div.sk-parallel {display: flex;align-items: stretch;justify-content: center;background-color: white;position: relative;}#sk-container-id-5 div.sk-item::before, #sk-container-id-5 div.sk-parallel-item::before {content: \"\";position: absolute;border-left: 1px solid gray;box-sizing: border-box;top: 0;bottom: 0;left: 50%;z-index: -1;}#sk-container-id-5 div.sk-parallel-item {display: flex;flex-direction: column;z-index: 1;position: relative;background-color: white;}#sk-container-id-5 div.sk-parallel-item:first-child::after {align-self: flex-end;width: 50%;}#sk-container-id-5 div.sk-parallel-item:last-child::after {align-self: flex-start;width: 50%;}#sk-container-id-5 div.sk-parallel-item:only-child::after {width: 0;}#sk-container-id-5 div.sk-dashed-wrapped {border: 1px dashed gray;margin: 0 0.4em 0.5em 0.4em;box-sizing: border-box;padding-bottom: 0.4em;background-color: white;}#sk-container-id-5 div.sk-label label {font-family: monospace;font-weight: bold;display: inline-block;line-height: 1.2em;}#sk-container-id-5 div.sk-label-container {text-align: center;}#sk-container-id-5 div.sk-container {/* jupyter's `normalize.less` sets `[hidden] { display: none; }` but bootstrap.min.css set `[hidden] { display: none !important; }` so we also need the `!important` here to be able to override the default hidden behavior on the sphinx rendered scikit-learn.org. See: https://github.com/scikit-learn/scikit-learn/issues/21755 */display: inline-block !important;position: relative;}#sk-container-id-5 div.sk-text-repr-fallback {display: none;}</style><div id=\"sk-container-id-5\" class=\"sk-top-container\"><div class=\"sk-text-repr-fallback\"><pre>KNeighborsClassifier(n_neighbors=3)</pre><b>In a Jupyter environment, please rerun this cell to show the HTML representation or trust the notebook. <br />On GitHub, the HTML representation is unable to render, please try loading this page with nbviewer.org.</b></div><div class=\"sk-container\" hidden><div class=\"sk-item\"><div class=\"sk-estimator sk-toggleable\"><input class=\"sk-toggleable__control sk-hidden--visually\" id=\"sk-estimator-id-5\" type=\"checkbox\" checked><label for=\"sk-estimator-id-5\" class=\"sk-toggleable__label sk-toggleable__label-arrow\">KNeighborsClassifier</label><div class=\"sk-toggleable__content\"><pre>KNeighborsClassifier(n_neighbors=3)</pre></div></div></div></div></div>"
      ],
      "text/plain": [
       "KNeighborsClassifier(n_neighbors=3)"
      ]
     },
     "execution_count": 27,
     "metadata": {},
     "output_type": "execute_result"
    }
   ],
   "source": [
    "# Fit the model on the training data\n",
    "knn.fit(X_train, y_train)\n",
    "\n"
   ]
  },
  {
   "cell_type": "code",
   "execution_count": 28,
   "id": "7f3f5e5e",
   "metadata": {},
   "outputs": [],
   "source": [
    "# Predict the class labels for the test data\n",
    "y_pred = knn.predict(X_test)\n",
    "\n"
   ]
  },
  {
   "cell_type": "code",
   "execution_count": 29,
   "id": "ec828369",
   "metadata": {},
   "outputs": [
    {
     "name": "stdout",
     "output_type": "stream",
     "text": [
      "Accuracy: 0.9147109330280481\n"
     ]
    }
   ],
   "source": [
    "# Calculate the accuracy of the model\n",
    "accuracy = accuracy_score(y_test, y_pred)\n",
    "print(f\"Accuracy: {accuracy}\")"
   ]
  },
  {
   "cell_type": "code",
   "execution_count": 49,
   "id": "c9c02862",
   "metadata": {},
   "outputs": [],
   "source": [
    "from xgboost import XGBClassifier, XGBRFClassifier\n",
    "\n",
    "from sklearn.metrics import confusion_matrix, classification_report\n"
   ]
  },
  {
   "cell_type": "code",
   "execution_count": 51,
   "id": "d2dd0f69",
   "metadata": {},
   "outputs": [
    {
     "name": "stdout",
     "output_type": "stream",
     "text": [
      "0.0786946694056193  mins\n"
     ]
    }
   ],
   "source": [
    "xgb_clf  = XGBClassifier()\n",
    "\n",
    "s = time.time()\n",
    "xgb_clf.fit(X_train, y_train)\n",
    "e = time.time()\n",
    "\n",
    "print((e-s)/60 , \" mins\")"
   ]
  },
  {
   "cell_type": "code",
   "execution_count": 61,
   "id": "44c8749d",
   "metadata": {},
   "outputs": [],
   "source": [
    "from sklearn.metrics import confusion_matrix, classification_report,accuracy_score,average_precision_score,f1_score"
   ]
  },
  {
   "cell_type": "code",
   "execution_count": 62,
   "id": "2487ce03",
   "metadata": {},
   "outputs": [
    {
     "name": "stdout",
     "output_type": "stream",
     "text": [
      "Train score :-  1.0\n",
      "F1 score on trianing data :-  1.0\n"
     ]
    }
   ],
   "source": [
    "y_pred_train_xgb = xgb_clf.predict(X_train)\n",
    "\n",
    "print(\"Train score :- \",xgb_clf.score(X_train, y_train))\n",
    "print(\"F1 score on trianing data :- \",f1_score(y_train, y_pred_train_xgb, average=\"macro\"))"
   ]
  },
  {
   "cell_type": "code",
   "execution_count": 63,
   "id": "63d9379d",
   "metadata": {},
   "outputs": [],
   "source": [
    "y_pred_xgb = xgb_clf.predict(X_test)"
   ]
  },
  {
   "cell_type": "code",
   "execution_count": 64,
   "id": "1c0f3472",
   "metadata": {},
   "outputs": [
    {
     "data": {
      "text/plain": [
       "0.9250143102461362"
      ]
     },
     "execution_count": 64,
     "metadata": {},
     "output_type": "execute_result"
    }
   ],
   "source": [
    "xgb_clf.score(X_test, y_test)"
   ]
  },
  {
   "cell_type": "code",
   "execution_count": 65,
   "id": "fdb35d55",
   "metadata": {},
   "outputs": [
    {
     "name": "stdout",
     "output_type": "stream",
     "text": [
      "              precision    recall  f1-score   support\n",
      "\n",
      "           0       0.95      0.94      0.94       203\n",
      "           1       0.95      0.86      0.90        86\n",
      "           2       0.87      0.93      0.90       183\n",
      "           3       0.91      0.89      0.90       201\n",
      "           4       0.94      0.91      0.92       206\n",
      "           5       0.95      0.99      0.97       193\n",
      "           6       0.97      0.92      0.94        72\n",
      "           7       0.95      0.95      0.95       208\n",
      "           8       0.93      0.96      0.94       165\n",
      "           9       0.88      0.88      0.88       230\n",
      "\n",
      "    accuracy                           0.93      1747\n",
      "   macro avg       0.93      0.92      0.93      1747\n",
      "weighted avg       0.93      0.93      0.92      1747\n",
      "\n"
     ]
    }
   ],
   "source": [
    "print(classification_report(y_test, y_pred_xgb))"
   ]
  },
  {
   "cell_type": "code",
   "execution_count": 66,
   "id": "017f7b40",
   "metadata": {},
   "outputs": [
    {
     "data": {
      "image/png": "[encoded data removed]",
      "text/plain": [
       "<Figure size 1000x400 with 2 Axes>"
      ]
     },
     "metadata": {},
     "output_type": "display_data"
    }
   ],
   "source": [
    "confusion_mat = confusion_matrix(y_test, y_pred_xgb)\n",
    "\n",
    "plt.figure(figsize=(10,4))\n",
    "plt.xlabel(\"Predicted class\")\n",
    "plt.ylabel(\"True class\")\n",
    "sns.heatmap(confusion_mat, annot=True, cmap=\"Blues\", xticklabels = ['air_conditioner', 'car_horn', 'children_playing', 'dog_bark', 'drilling', 'enginge_idling', 'gun_shot', 'jackhammer', 'siren','street_music'],\n",
    "           yticklabels=['air_conditioner', 'car_horn', 'children_playing', 'dog_bark', 'drilling', 'enginge_idling', 'gun_shot', 'jackhammer', 'siren','street_music'])\n",
    "plt.show()"
   ]
  },
  {
   "cell_type": "code",
   "execution_count": null,
   "id": "e05a5f4b",
   "metadata": {},
   "outputs": [],
   "source": []
  }
 ],
 "metadata": {
  "kernelspec": {
   "display_name": "Python 3 (ipykernel)",
   "language": "python",
   "name": "python3"
  },
  "language_info": {
   "codemirror_mode": {
    "name": "ipython",
    "version": 3
   },
   "file_extension": ".py",
   "mimetype": "text/x-python",
   "name": "python",
   "nbconvert_exporter": "python",
   "pygments_lexer": "ipython3",
   "version": "3.10.9"
  }
 },
 "nbformat": 4,
 "nbformat_minor": 5
}
