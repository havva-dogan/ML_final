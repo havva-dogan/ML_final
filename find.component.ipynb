{
 "cells": [
  {
   "cell_type": "code",
   "execution_count": 9,
   "id": "aa2a2540",
   "metadata": {},
   "outputs": [],
   "source": [
    "import pandas as pd\n",
    "from sklearn.decomposition import PCA\n",
    "\n",
    "# Read the extracted features CSV file\n",
    "extracted_features_df = pd.read_csv('/Users/havvadogan/Desktop/ML/extracted_features.csv')\n",
    "df = extracted_features_df"
   ]
  },
  {
   "cell_type": "code",
   "execution_count": 10,
   "id": "051dc74f",
   "metadata": {
    "scrolled": true
   },
   "outputs": [
    {
     "name": "stdout",
     "output_type": "stream",
     "text": [
      "Explained Variance Ratio: [9.78236598e-01 1.78227217e-02 3.27169371e-03 2.08212459e-04\n",
      " 1.32923768e-04 9.86428776e-05 6.28748690e-05 3.95066403e-05\n",
      " 2.51335398e-05 2.11501999e-05 1.75276231e-05 1.27357764e-05\n",
      " 1.12562155e-05 8.55453522e-06 7.96591072e-06 6.78916577e-06\n",
      " 5.73783700e-06 5.35401198e-06 2.31646922e-06 1.11060394e-06\n",
      " 6.12401514e-07 5.15111827e-07 1.96437725e-08 1.10654771e-08\n",
      " 1.09720788e-08 6.07981621e-09 5.86095612e-09 3.73818194e-09\n",
      " 3.14413317e-09 1.55251062e-09 1.35890420e-09 1.16973839e-09\n",
      " 1.07692281e-09 5.83533469e-10 1.01151637e-10]\n"
     ]
    }
   ],
   "source": [
    "\n",
    "\n",
    "# Separate the features (X) and target variable (y)\n",
    "X = df.drop('class', axis=1)  # Remove the target variable\n",
    "y = df['class']\n",
    "\n",
    "# Apply PCA\n",
    "pca = PCA(n_components=35)  # Specify the number of components to retain\n",
    "X_pca = pca.fit_transform(X)\n",
    "\n",
    "# Optional: Print the explained variance ratio\n",
    "print(\"Explained Variance Ratio:\", pca.explained_variance_ratio_)\n",
    "\n",
    "# Create a new DataFrame with the transformed features\n",
    "df_pca = pd.DataFrame(X_pca, columns=[\"PC{}\".format(i+1) for i in range(X_pca.shape[1])])\n",
    "df_pca['class'] = y\n",
    "\n",
    "# Optional: Save the PCA-transformed data to a new CSV file\n",
    "df_pca.to_csv('pca_transformed_data.csv', index=False)\n"
   ]
  },
  {
   "cell_type": "code",
   "execution_count": 17,
   "id": "41e5a6ce",
   "metadata": {},
   "outputs": [
    {
     "name": "stdout",
     "output_type": "stream",
     "text": [
      "PC1: 97.82%\n",
      "PC2: 1.78%\n",
      "PC3: 0.33%\n",
      "PC4: 0.02%\n",
      "PC5: 0.01%\n",
      "PC6: 0.01%\n",
      "PC7: 0.01%\n",
      "PC8: 0.00%\n",
      "PC9: 0.00%\n",
      "PC10: 0.00%\n",
      "PC11: 0.00%\n",
      "PC12: 0.00%\n",
      "PC13: 0.00%\n",
      "PC14: 0.00%\n",
      "PC15: 0.00%\n",
      "PC16: 0.00%\n",
      "PC17: 0.00%\n",
      "PC18: 0.00%\n",
      "PC19: 0.00%\n",
      "PC20: 0.00%\n",
      "PC21: 0.00%\n",
      "PC22: 0.00%\n",
      "PC23: 0.00%\n",
      "PC24: 0.00%\n",
      "PC25: 0.00%\n",
      "PC26: 0.00%\n",
      "PC27: 0.00%\n",
      "PC28: 0.00%\n",
      "PC29: 0.00%\n",
      "PC30: 0.00%\n",
      "PC31: 0.00%\n",
      "PC32: 0.00%\n",
      "PC33: 0.00%\n",
      "PC34: 0.00%\n",
      "PC35: 0.00%\n"
     ]
    }
   ],
   "source": [
    "import numpy as np\n",
    "\n",
    "# Explained variance ratio\n",
    "explained_variance_ratio = np.array([9.78236598e-01, 1.78227217e-02, 3.27169371e-03, 2.08212459e-04, 1.32923768e-04, 9.86428776e-05, 6.28748690e-05, 3.95066403e-05, 2.51335398e-05, 2.11501999e-05, 1.75276231e-05, 1.27357764e-05,\n",
    " 1.12562155e-05, 8.55453522e-06, 7.96591072e-06, 6.78916577e-06, 5.73783700e-06, 5.35401198e-06, 2.31646922e-06, 1.11060394e-06,\n",
    " 6.12401514e-07, 5.15111827e-07, 1.96437725e-08, 1.10654771e-08, 1.09720788e-08, 6.07981621e-09, 5.86095612e-09, 3.73818194e-09,\n",
    " 3.14413317e-09, 1.55251062e-09, 1.35890420e-09, 1.16973839e-09, 1.07692281e-09, 5.83533469e-10, 1.01151637e-10])\n",
    "\n",
    "# Convert explained variance ratio to percentages\n",
    "explained_variance_percentage = explained_variance_ratio * 100\n",
    "\n",
    "# Print the percentages\n",
    "for index, percentage in enumerate(explained_variance_percentage):\n",
    "    print(f\"PC{index+1}: {percentage:.2f}%\")\n"
   ]
  },
  {
   "cell_type": "code",
   "execution_count": 19,
   "id": "e705b210",
   "metadata": {},
   "outputs": [
    {
     "ename": "NameError",
     "evalue": "name 'X_train' is not defined",
     "output_type": "error",
     "traceback": [
      "\u001b[0;31m---------------------------------------------------------------------------\u001b[0m",
      "\u001b[0;31mNameError\u001b[0m                                 Traceback (most recent call last)",
      "Cell \u001b[0;32mIn[19], line 4\u001b[0m\n\u001b[1;32m      1\u001b[0m \u001b[38;5;28;01mfrom\u001b[39;00m \u001b[38;5;21;01msklearn\u001b[39;00m \u001b[38;5;28;01mimport\u001b[39;00m decomposition, ensemble, datasets, linear_model\n\u001b[1;32m      3\u001b[0m pca \u001b[38;5;241m=\u001b[39m decomposition\u001b[38;5;241m.\u001b[39mPCA(n_components \u001b[38;5;241m=\u001b[39m \u001b[38;5;241m2\u001b[39m)\n\u001b[0;32m----> 4\u001b[0m X_train_vis \u001b[38;5;241m=\u001b[39m pca\u001b[38;5;241m.\u001b[39mfit_transform(\u001b[43mX_train\u001b[49m)\n\u001b[1;32m      6\u001b[0m X_train_vis\u001b[38;5;241m.\u001b[39mshape\n",
      "\u001b[0;31mNameError\u001b[0m: name 'X_train' is not defined"
     ]
    }
   ],
   "source": [
    "from sklearn import decomposition, ensemble, datasets, linear_model\n",
    "\n",
    "pca = decomposition.PCA(n_components = 2)\n",
    "X_train_vis = pca.fit_transform(X_train)\n",
    "\n",
    "X_train_vis.shape"
   ]
  },
  {
   "cell_type": "code",
   "execution_count": null,
   "id": "e6c355fd",
   "metadata": {},
   "outputs": [],
   "source": []
  }
 ],
 "metadata": {
  "kernelspec": {
   "display_name": "Python 3 (ipykernel)",
   "language": "python",
   "name": "python3"
  },
  "language_info": {
   "codemirror_mode": {
    "name": "ipython",
    "version": 3
   },
   "file_extension": ".py",
   "mimetype": "text/x-python",
   "name": "python",
   "nbconvert_exporter": "python",
   "pygments_lexer": "ipython3",
   "version": "3.10.9"
  }
 },
 "nbformat": 4,
 "nbformat_minor": 5
}
